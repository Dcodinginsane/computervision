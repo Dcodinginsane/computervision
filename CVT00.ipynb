{
  "nbformat": 4,
  "nbformat_minor": 0,
  "metadata": {
    "colab": {
      "provenance": [],
      "authorship_tag": "ABX9TyOdRg4xSQrEu0Irm6e7fdUW",
      "include_colab_link": true
    },
    "kernelspec": {
      "name": "python3",
      "display_name": "Python 3"
    },
    "language_info": {
      "name": "python"
    }
  },
  "cells": [
    {
      "cell_type": "markdown",
      "metadata": {
        "id": "view-in-github",
        "colab_type": "text"
      },
      "source": [
        "<a href=\"https://colab.research.google.com/github/Dcodinginsane/computervision/blob/main/CVT00.ipynb\" target=\"_parent\"><img src=\"https://colab.research.google.com/assets/colab-badge.svg\" alt=\"Open In Colab\"/></a>"
      ]
    },
    {
      "cell_type": "code",
      "execution_count": null,
      "metadata": {
        "id": "UFWsDYCq8gKM"
      },
      "outputs": [],
      "source": [
        "import  tensorflow  as tf\n",
        "\n"
      ]
    },
    {
      "cell_type": "code",
      "source": [
        "tensor_zero_d = tf.constant(4)\n",
        "print(tensor_zero_d)"
      ],
      "metadata": {
        "colab": {
          "base_uri": "https://localhost:8080/"
        },
        "id": "JiRw-AqruwDT",
        "outputId": "5f71e9af-a13b-4fa8-8725-72dbf4b26db2"
      },
      "execution_count": null,
      "outputs": [
        {
          "output_type": "stream",
          "name": "stdout",
          "text": [
            "tf.Tensor(4, shape=(), dtype=int32)\n"
          ]
        }
      ]
    },
    {
      "cell_type": "code",
      "source": [
        "tensor_one_d = tf.constant([2,0 , -3 , 8 , 90])\n",
        "print(tensor_one_d)"
      ],
      "metadata": {
        "colab": {
          "base_uri": "https://localhost:8080/"
        },
        "id": "Odg_O3nyvggP",
        "outputId": "a2116118-8b0a-4b73-aca9-f633b09844b2"
      },
      "execution_count": null,
      "outputs": [
        {
          "output_type": "stream",
          "name": "stdout",
          "text": [
            "tf.Tensor([ 2  0 -3  8 90], shape=(5,), dtype=int32)\n"
          ]
        }
      ]
    },
    {
      "cell_type": "code",
      "source": [
        "tenosr_two_d = tf.constant([[1 ,2 ,0],\n",
        "                            [3 ,5,1],\n",
        "                            [1,5,6]])\n",
        "\n",
        "tenosr_two_d"
      ],
      "metadata": {
        "colab": {
          "base_uri": "https://localhost:8080/"
        },
        "id": "SOTjY95GvxiK",
        "outputId": "eddf188b-ce27-402f-eaf7-c5c8dce40368"
      },
      "execution_count": null,
      "outputs": [
        {
          "output_type": "execute_result",
          "data": {
            "text/plain": [
              "<tf.Tensor: shape=(3, 3), dtype=int32, numpy=\n",
              "array([[1, 2, 0],\n",
              "       [3, 5, 1],\n",
              "       [1, 5, 6]], dtype=int32)>"
            ]
          },
          "metadata": {},
          "execution_count": 74
        }
      ]
    },
    {
      "cell_type": "code",
      "source": [
        "tensor_three_d = tf.constant(\n",
        "    [[[1 ,2,0],\n",
        "      [3,5,-1]],\n",
        "    [[10 , 2 ,0],\n",
        "     [1,0,2]],\n",
        "     [[2 ,1,9],\n",
        "      [4 ,-3 ,32]]]\n",
        ")\n",
        "\n",
        "tensor_three_d"
      ],
      "metadata": {
        "colab": {
          "base_uri": "https://localhost:8080/"
        },
        "id": "VQXsyzpoweLy",
        "outputId": "c803e9bb-8cf4-4dd6-fd9f-24df5e19da1b"
      },
      "execution_count": null,
      "outputs": [
        {
          "output_type": "execute_result",
          "data": {
            "text/plain": [
              "<tf.Tensor: shape=(3, 2, 3), dtype=int32, numpy=\n",
              "array([[[ 1,  2,  0],\n",
              "        [ 3,  5, -1]],\n",
              "\n",
              "       [[10,  2,  0],\n",
              "        [ 1,  0,  2]],\n",
              "\n",
              "       [[ 2,  1,  9],\n",
              "        [ 4, -3, 32]]], dtype=int32)>"
            ]
          },
          "metadata": {},
          "execution_count": 75
        }
      ]
    },
    {
      "cell_type": "code",
      "source": [
        "print(tensor_three_d.shape)"
      ],
      "metadata": {
        "colab": {
          "base_uri": "https://localhost:8080/"
        },
        "id": "DS21AIA-xLiV",
        "outputId": "c83adb25-7fba-4b80-9f9f-9e1f952a9c44"
      },
      "execution_count": null,
      "outputs": [
        {
          "output_type": "stream",
          "name": "stdout",
          "text": [
            "(3, 2, 3)\n"
          ]
        }
      ]
    },
    {
      "cell_type": "code",
      "source": [
        "tensor_four_d = tf.constant(\n",
        "    [ [[[1 ,2,0],\n",
        "      [3,5,-1]],\n",
        "    [[10 , 2 ,0],\n",
        "     [1,0,2]],\n",
        "     [[2 ,2,9],\n",
        "      [4 ,-3 ,32]]],\n",
        "       [[[1 ,2,0],\n",
        "      [3,5,-1]],\n",
        "    [[10 , 2 ,0],\n",
        "     [1,0,2]],\n",
        "     [[2 ,1,9],\n",
        "      [4 ,-3 ,32]]],\n",
        "       [[[1 ,2,0],\n",
        "      [3,5,-1]],\n",
        "    [[10 , 5 ,0],\n",
        "     [1,0,2]],\n",
        "     [[2 ,1,9],\n",
        "      [4 ,-3 ,32]]]]\n",
        ")\n",
        "\n",
        "tensor_four_d"
      ],
      "metadata": {
        "colab": {
          "base_uri": "https://localhost:8080/"
        },
        "id": "jYGC4BJ3xWnK",
        "outputId": "c6dbce91-1e2d-4abe-f731-f79265c8b795"
      },
      "execution_count": null,
      "outputs": [
        {
          "output_type": "execute_result",
          "data": {
            "text/plain": [
              "<tf.Tensor: shape=(3, 3, 2, 3), dtype=int32, numpy=\n",
              "array([[[[ 1,  2,  0],\n",
              "         [ 3,  5, -1]],\n",
              "\n",
              "        [[10,  2,  0],\n",
              "         [ 1,  0,  2]],\n",
              "\n",
              "        [[ 2,  2,  9],\n",
              "         [ 4, -3, 32]]],\n",
              "\n",
              "\n",
              "       [[[ 1,  2,  0],\n",
              "         [ 3,  5, -1]],\n",
              "\n",
              "        [[10,  2,  0],\n",
              "         [ 1,  0,  2]],\n",
              "\n",
              "        [[ 2,  1,  9],\n",
              "         [ 4, -3, 32]]],\n",
              "\n",
              "\n",
              "       [[[ 1,  2,  0],\n",
              "         [ 3,  5, -1]],\n",
              "\n",
              "        [[10,  5,  0],\n",
              "         [ 1,  0,  2]],\n",
              "\n",
              "        [[ 2,  1,  9],\n",
              "         [ 4, -3, 32]]]], dtype=int32)>"
            ]
          },
          "metadata": {},
          "execution_count": 77
        }
      ]
    },
    {
      "cell_type": "code",
      "source": [
        "tensor_one_d = tf.constant([1 ,2,3,4,5] ,dtype=tf.float16)\n",
        "tensor_one_d"
      ],
      "metadata": {
        "colab": {
          "base_uri": "https://localhost:8080/"
        },
        "id": "UPRKqCMIyIct",
        "outputId": "ea0c6b39-f62c-481f-da14-cab43beed842"
      },
      "execution_count": null,
      "outputs": [
        {
          "output_type": "execute_result",
          "data": {
            "text/plain": [
              "<tf.Tensor: shape=(5,), dtype=float16, numpy=array([1., 2., 3., 4., 5.], dtype=float16)>"
            ]
          },
          "metadata": {},
          "execution_count": 78
        }
      ]
    },
    {
      "cell_type": "code",
      "source": [
        "tenosr_one_d = tf.constant([2., 0., -3 , 8 , 90] , dtype = tf.float32)\n",
        "\n",
        "casted_tensor_one_d = tf.cast(tenosr_one_d , dtype=tf.int16)\n",
        "\n",
        "print(tensor_one_d)\n",
        "print(casted_tensor_one_d)"
      ],
      "metadata": {
        "colab": {
          "base_uri": "https://localhost:8080/"
        },
        "id": "0YQ72QyVzCPO",
        "outputId": "2b407cad-32f4-40b4-85f7-84aa0ef096c9"
      },
      "execution_count": null,
      "outputs": [
        {
          "output_type": "stream",
          "name": "stdout",
          "text": [
            "tf.Tensor([1. 2. 3. 4. 5.], shape=(5,), dtype=float16)\n",
            "tf.Tensor([ 2  0 -3  8 90], shape=(5,), dtype=int16)\n"
          ]
        }
      ]
    },
    {
      "cell_type": "code",
      "source": [
        "tensor_bool = tf.constant([True , True , False])\n",
        "print(tensor_bool)"
      ],
      "metadata": {
        "colab": {
          "base_uri": "https://localhost:8080/"
        },
        "id": "WXmSfA8-0ycI",
        "outputId": "e1054f9e-86d9-4fa1-c7ed-26c9aca8fd7e"
      },
      "execution_count": null,
      "outputs": [
        {
          "output_type": "stream",
          "name": "stdout",
          "text": [
            "tf.Tensor([ True  True False], shape=(3,), dtype=bool)\n"
          ]
        }
      ]
    },
    {
      "cell_type": "code",
      "source": [
        "tensor_string = tf.constant([\"hello world\" , \"h1 \"])\n",
        "print(tensor_string)"
      ],
      "metadata": {
        "colab": {
          "base_uri": "https://localhost:8080/"
        },
        "id": "BZMDj7Nx1JHT",
        "outputId": "7fd78ed9-3836-43b4-bc90-95e58e2a6557"
      },
      "execution_count": null,
      "outputs": [
        {
          "output_type": "stream",
          "name": "stdout",
          "text": [
            "tf.Tensor([b'hello world' b'h1 '], shape=(2,), dtype=string)\n"
          ]
        }
      ]
    },
    {
      "cell_type": "code",
      "source": [
        "import numpy as np\n",
        "np_array = np.array([1 ,2,4])\n",
        "print(np_array)\n",
        "\n",
        "converted_tensor = tf.convert_to_tensor(np_array)\n",
        "print(converted_tensor)"
      ],
      "metadata": {
        "colab": {
          "base_uri": "https://localhost:8080/"
        },
        "id": "9PgzoEGm1fke",
        "outputId": "d7ac2f92-050b-4d79-c598-37b403f265bc"
      },
      "execution_count": null,
      "outputs": [
        {
          "output_type": "stream",
          "name": "stdout",
          "text": [
            "[1 2 4]\n",
            "tf.Tensor([1 2 4], shape=(3,), dtype=int64)\n"
          ]
        }
      ]
    },
    {
      "cell_type": "code",
      "source": [
        "eye_tensor = tf.eye(\n",
        "    num_rows= 3,\n",
        "    num_columns= None ,\n",
        "    batch_shape= None ,\n",
        "    dtype=tf.dtypes.float32,\n",
        "    name = None\n",
        "\n",
        ")\n",
        "print(eye_tensor)"
      ],
      "metadata": {
        "colab": {
          "base_uri": "https://localhost:8080/"
        },
        "id": "NsdnQDsj3Prh",
        "outputId": "64e20ff2-4fd7-489b-8195-f342b8212f63"
      },
      "execution_count": null,
      "outputs": [
        {
          "output_type": "stream",
          "name": "stdout",
          "text": [
            "tf.Tensor(\n",
            "[[1. 0. 0.]\n",
            " [0. 1. 0.]\n",
            " [0. 0. 1.]], shape=(3, 3), dtype=float32)\n"
          ]
        }
      ]
    },
    {
      "cell_type": "code",
      "source": [
        "eye_tensor = tf.eye(num_rows= 5,\n",
        "                    num_columns=3,\n",
        "                    batch_shape=[2 ,],\n",
        "                    dtype= tf.dtypes.float32)\n",
        "\n",
        "eye_tensor"
      ],
      "metadata": {
        "colab": {
          "base_uri": "https://localhost:8080/"
        },
        "id": "3TACMEoJ37CW",
        "outputId": "fe7ab7bc-f53a-4c6a-fd54-64599d801f21"
      },
      "execution_count": null,
      "outputs": [
        {
          "output_type": "execute_result",
          "data": {
            "text/plain": [
              "<tf.Tensor: shape=(2, 5, 3), dtype=float32, numpy=\n",
              "array([[[1., 0., 0.],\n",
              "        [0., 1., 0.],\n",
              "        [0., 0., 1.],\n",
              "        [0., 0., 0.],\n",
              "        [0., 0., 0.]],\n",
              "\n",
              "       [[1., 0., 0.],\n",
              "        [0., 1., 0.],\n",
              "        [0., 0., 1.],\n",
              "        [0., 0., 0.],\n",
              "        [0., 0., 0.]]], dtype=float32)>"
            ]
          },
          "metadata": {},
          "execution_count": 84
        }
      ]
    },
    {
      "cell_type": "code",
      "source": [
        "fill_tensor = tf.fill(\n",
        "    [1 ,3,4] , 5 , name = None\n",
        "\n",
        ")\n",
        "\n",
        "print(fill_tensor)"
      ],
      "metadata": {
        "colab": {
          "base_uri": "https://localhost:8080/"
        },
        "id": "gDLvCxFm4kUA",
        "outputId": "6fb6a7d6-5c4d-4443-ef18-54276bef2c14"
      },
      "execution_count": null,
      "outputs": [
        {
          "output_type": "stream",
          "name": "stdout",
          "text": [
            "tf.Tensor(\n",
            "[[[5 5 5 5]\n",
            "  [5 5 5 5]\n",
            "  [5 5 5 5]]], shape=(1, 3, 4), dtype=int32)\n"
          ]
        }
      ]
    },
    {
      "cell_type": "code",
      "source": [
        "one_tensor = tf.ones(\n",
        "    [5 , 3 ,2]\n",
        ")\n",
        "one_tensor"
      ],
      "metadata": {
        "colab": {
          "base_uri": "https://localhost:8080/"
        },
        "id": "Wc285b2j5fHu",
        "outputId": "262b0a35-70cd-406e-ff25-73c7b0e8b823"
      },
      "execution_count": null,
      "outputs": [
        {
          "output_type": "execute_result",
          "data": {
            "text/plain": [
              "<tf.Tensor: shape=(5, 3, 2), dtype=float32, numpy=\n",
              "array([[[1., 1.],\n",
              "        [1., 1.],\n",
              "        [1., 1.]],\n",
              "\n",
              "       [[1., 1.],\n",
              "        [1., 1.],\n",
              "        [1., 1.]],\n",
              "\n",
              "       [[1., 1.],\n",
              "        [1., 1.],\n",
              "        [1., 1.]],\n",
              "\n",
              "       [[1., 1.],\n",
              "        [1., 1.],\n",
              "        [1., 1.]],\n",
              "\n",
              "       [[1., 1.],\n",
              "        [1., 1.],\n",
              "        [1., 1.]]], dtype=float32)>"
            ]
          },
          "metadata": {},
          "execution_count": 86
        }
      ]
    },
    {
      "cell_type": "code",
      "source": [
        "ones_like_tensor = tf.ones_like(fill_tensor)\n",
        "print(ones_like_tensor)"
      ],
      "metadata": {
        "colab": {
          "base_uri": "https://localhost:8080/"
        },
        "id": "8LSjV5yy5xVs",
        "outputId": "7f593348-04b2-4584-a024-940988e24e57"
      },
      "execution_count": null,
      "outputs": [
        {
          "output_type": "stream",
          "name": "stdout",
          "text": [
            "tf.Tensor(\n",
            "[[[1 1 1 1]\n",
            "  [1 1 1 1]\n",
            "  [1 1 1 1]]], shape=(1, 3, 4), dtype=int32)\n"
          ]
        }
      ]
    },
    {
      "cell_type": "code",
      "source": [
        "# shepe of tensor 't' is [2 ,2,3]\n",
        "t = tf.constant([[1,1,1] , [2,2,2]])\n",
        "tf.rank(t)"
      ],
      "metadata": {
        "colab": {
          "base_uri": "https://localhost:8080/"
        },
        "id": "Py51bvFv69iQ",
        "outputId": "d845ccca-b54f-41e6-b7ef-b341a0b093ff"
      },
      "execution_count": null,
      "outputs": [
        {
          "output_type": "execute_result",
          "data": {
            "text/plain": [
              "<tf.Tensor: shape=(), dtype=int32, numpy=2>"
            ]
          },
          "metadata": {},
          "execution_count": 88
        }
      ]
    },
    {
      "cell_type": "code",
      "source": [
        "tf.size(t)"
      ],
      "metadata": {
        "colab": {
          "base_uri": "https://localhost:8080/"
        },
        "id": "J2zZ2pX87vGo",
        "outputId": "5437de0f-4562-42c6-f861-236eeec95b39"
      },
      "execution_count": null,
      "outputs": [
        {
          "output_type": "execute_result",
          "data": {
            "text/plain": [
              "<tf.Tensor: shape=(), dtype=int32, numpy=6>"
            ]
          },
          "metadata": {},
          "execution_count": 89
        }
      ]
    },
    {
      "cell_type": "code",
      "source": [
        "from tensorflow._api.v2 import random\n",
        "random_tensor = tf.random.normal(\n",
        "    [3 ,2] ,\n",
        "    mean = 100.0,\n",
        "    stddev = 1.0,\n",
        "    dtype= tf.dtypes.float32,\n",
        "    seed = None,\n",
        "    name = None\n",
        ")\n",
        "print(random_tensor)"
      ],
      "metadata": {
        "colab": {
          "base_uri": "https://localhost:8080/"
        },
        "id": "cXWrCFCP8QpS",
        "outputId": "ea2671a2-4d13-4b8b-c4df-97f8d1087fb5"
      },
      "execution_count": null,
      "outputs": [
        {
          "output_type": "stream",
          "name": "stdout",
          "text": [
            "tf.Tensor(\n",
            "[[100.48318   99.02794 ]\n",
            " [ 98.105194  99.43261 ]\n",
            " [ 98.67014   99.54654 ]], shape=(3, 2), dtype=float32)\n"
          ]
        }
      ]
    },
    {
      "cell_type": "code",
      "source": [
        "random_tensor = tf.random.uniform(\n",
        "    [5 ,5],\n",
        "    minval= 0 ,\n",
        "    maxval= 1000 ,\n",
        "    dtype = tf.dtypes.int32 ,\n",
        "    seed = None,\n",
        "    name = None\n",
        ")\n",
        "print(random_tensor)"
      ],
      "metadata": {
        "colab": {
          "base_uri": "https://localhost:8080/"
        },
        "id": "kRTqJUFH8_Pm",
        "outputId": "b97655c2-5b9b-4d59-b1ae-6e5af7b6e210"
      },
      "execution_count": null,
      "outputs": [
        {
          "output_type": "stream",
          "name": "stdout",
          "text": [
            "tf.Tensor(\n",
            "[[603 738 210 976 500]\n",
            " [708 270 990 648 566]\n",
            " [ 63 935 709 700 249]\n",
            " [848 959 199 979 868]\n",
            " [804 143 787 935 235]], shape=(5, 5), dtype=int32)\n"
          ]
        }
      ]
    },
    {
      "cell_type": "code",
      "source": [
        "tf.random.set_seed(5)\n",
        "print(tf.random.uniform(shape = [3 ,] , maxval= 5 , dtype=tf.int32 , seed = 10))\n",
        "print(tf.random.uniform(shape=[3,] , maxval = 5 , dtype=tf.int32 , seed = 10))\n",
        "print(tf.random.uniform(shape=[3,] , maxval = 5 , dtype=tf.int32 , seed = 10))\n",
        "print(tf.random.uniform(shape=[3,] , maxval = 5 , dtype=tf.int32 , seed = 10))"
      ],
      "metadata": {
        "colab": {
          "base_uri": "https://localhost:8080/"
        },
        "id": "RCTlPtEsA5XZ",
        "outputId": "b9228f40-df85-4a97-938b-958a5056cb37"
      },
      "execution_count": null,
      "outputs": [
        {
          "output_type": "stream",
          "name": "stdout",
          "text": [
            "tf.Tensor([4 3 1], shape=(3,), dtype=int32)\n",
            "tf.Tensor([4 3 2], shape=(3,), dtype=int32)\n",
            "tf.Tensor([1 1 1], shape=(3,), dtype=int32)\n",
            "tf.Tensor([1 3 3], shape=(3,), dtype=int32)\n"
          ]
        }
      ]
    },
    {
      "cell_type": "code",
      "source": [
        "tf.random.set_seed(10)\n",
        "print(tf.random.uniform(shape = [3 ,] , maxval= 5, dtype=tf.int32 , seed = 10))\n",
        "print(tf.random.uniform(shape=[3,] , maxval = 5 , dtype=tf.int32 , seed = 10))\n",
        "print(tf.random.uniform(shape=[3,] , maxval = 5 , dtype=tf.int32 , seed = 10))\n",
        "print(tf.random.uniform(shape=[3,] , maxval = 5 , dtype=tf.int32 , seed = 10))"
      ],
      "metadata": {
        "colab": {
          "base_uri": "https://localhost:8080/"
        },
        "id": "y22aTkdbB9Pr",
        "outputId": "97821529-6942-407b-af10-c7937e81ddd5"
      },
      "execution_count": null,
      "outputs": [
        {
          "output_type": "stream",
          "name": "stdout",
          "text": [
            "tf.Tensor([3 4 2], shape=(3,), dtype=int32)\n",
            "tf.Tensor([3 3 3], shape=(3,), dtype=int32)\n",
            "tf.Tensor([0 2 3], shape=(3,), dtype=int32)\n",
            "tf.Tensor([1 3 3], shape=(3,), dtype=int32)\n"
          ]
        }
      ]
    },
    {
      "cell_type": "code",
      "source": [
        "tensor_indexed = tf.constant([3,6 ,2,4, 66 ,7])\n",
        "print(tensor_indexed)\n",
        "print(tensor_indexed)"
      ],
      "metadata": {
        "colab": {
          "base_uri": "https://localhost:8080/"
        },
        "id": "FNKyBcRFDEcd",
        "outputId": "a68c70ec-2529-4db7-dbf4-069b614f7ed1"
      },
      "execution_count": null,
      "outputs": [
        {
          "output_type": "stream",
          "name": "stdout",
          "text": [
            "tf.Tensor([ 3  6  2  4 66  7], shape=(6,), dtype=int32)\n",
            "tf.Tensor([ 3  6  2  4 66  7], shape=(6,), dtype=int32)\n"
          ]
        }
      ]
    },
    {
      "cell_type": "code",
      "source": [
        "print(tensor_indexed[0:4])"
      ],
      "metadata": {
        "colab": {
          "base_uri": "https://localhost:8080/"
        },
        "id": "CpiDUMyZDgSW",
        "outputId": "15d97819-69ad-44bb-c112-cce2f89968cd"
      },
      "execution_count": null,
      "outputs": [
        {
          "output_type": "stream",
          "name": "stdout",
          "text": [
            "tf.Tensor([3 6 2 4], shape=(4,), dtype=int32)\n"
          ]
        }
      ]
    },
    {
      "cell_type": "code",
      "source": [
        "tensor_two_d = tf.constant([[1,2,0],\n",
        "                           [3,5,-1],\n",
        "                           [1,5,6],\n",
        "                           [2,3,8]])\n",
        "\n",
        "print(tensor_two_d[0:3 , :])"
      ],
      "metadata": {
        "colab": {
          "base_uri": "https://localhost:8080/"
        },
        "id": "GsQnKmAfEr6K",
        "outputId": "d7e1a5bd-274c-4be6-d3c4-dc9f56b5ee35"
      },
      "execution_count": null,
      "outputs": [
        {
          "output_type": "stream",
          "name": "stdout",
          "text": [
            "tf.Tensor(\n",
            "[[ 1  2  0]\n",
            " [ 3  5 -1]\n",
            " [ 1  5  6]], shape=(3, 3), dtype=int32)\n"
          ]
        }
      ]
    },
    {
      "cell_type": "code",
      "source": [
        "print(tensor_two_d[...,1])"
      ],
      "metadata": {
        "colab": {
          "base_uri": "https://localhost:8080/"
        },
        "id": "C8QWhtB2GTB2",
        "outputId": "084dc4cd-b905-41f5-9bcd-d6163ef2ae56"
      },
      "execution_count": null,
      "outputs": [
        {
          "output_type": "stream",
          "name": "stdout",
          "text": [
            "tf.Tensor([2 5 5 3], shape=(4,), dtype=int32)\n"
          ]
        }
      ]
    },
    {
      "cell_type": "code",
      "source": [
        "tensor_three_d = tf.constant(\n",
        "    [\n",
        "        [[1,2,0],\n",
        "         [3,5,-1]\n",
        "         ],\n",
        "        [[10,2,0],\n",
        "         [1,0,2]],\n",
        "\n",
        "        [[5,8,0],\n",
        "         [2,7,0]],\n",
        "        [[2,1,9],\n",
        "         [4,-3,32]]\n",
        "    ]\n",
        ")\n",
        "\n",
        "print(tensor_three_d[0,:,:])"
      ],
      "metadata": {
        "colab": {
          "base_uri": "https://localhost:8080/"
        },
        "id": "ksSx5dvJJ_Oe",
        "outputId": "71249b86-b968-4b66-ac91-d1b52b49ebc3"
      },
      "execution_count": null,
      "outputs": [
        {
          "output_type": "stream",
          "name": "stdout",
          "text": [
            "tf.Tensor(\n",
            "[[ 1  2  0]\n",
            " [ 3  5 -1]], shape=(2, 3), dtype=int32)\n"
          ]
        }
      ]
    },
    {
      "cell_type": "code",
      "source": [
        "x_abs = tf.constant([-2 , 25 , 3.25])\n",
        "tf.abs(x_abs)"
      ],
      "metadata": {
        "colab": {
          "base_uri": "https://localhost:8080/"
        },
        "id": "zCl0L-iHMS1F",
        "outputId": "48e8ce65-305a-4525-92dd-76a39adffbb7"
      },
      "execution_count": null,
      "outputs": [
        {
          "output_type": "execute_result",
          "data": {
            "text/plain": [
              "<tf.Tensor: shape=(3,), dtype=float32, numpy=array([ 2.  , 25.  ,  3.25], dtype=float32)>"
            ]
          },
          "metadata": {},
          "execution_count": 99
        }
      ]
    },
    {
      "cell_type": "code",
      "source": [
        "t = tf.constant([[1,2,3] ,[5 ,6,7]])\n",
        "tf.size(t)"
      ],
      "metadata": {
        "colab": {
          "base_uri": "https://localhost:8080/"
        },
        "id": "8xMd4Rxrqy-W",
        "outputId": "dd4f3397-92d6-4b3f-fc60-53218772619a"
      },
      "execution_count": null,
      "outputs": [
        {
          "output_type": "execute_result",
          "data": {
            "text/plain": [
              "<tf.Tensor: shape=(), dtype=int32, numpy=6>"
            ]
          },
          "metadata": {},
          "execution_count": 100
        }
      ]
    },
    {
      "cell_type": "code",
      "source": [
        "random_tensor = tf.random.normal(\n",
        "    [3 ,2] ,\n",
        "    mean= 0.0\n",
        "    , stddev= 1.0 ,\n",
        "    dtype= tf.dtypes.float32,\n",
        "    seed = None,\n",
        "    name = None\n",
        ")\n",
        "\n",
        "print(random_tensor)"
      ],
      "metadata": {
        "colab": {
          "base_uri": "https://localhost:8080/"
        },
        "id": "Hwcgr6qWrXsn",
        "outputId": "671b7ce6-5474-454a-da2f-982206819647"
      },
      "execution_count": null,
      "outputs": [
        {
          "output_type": "stream",
          "name": "stdout",
          "text": [
            "tf.Tensor(\n",
            "[[-0.8757808   0.3356369 ]\n",
            " [-0.35219625 -0.30314562]\n",
            " [-0.03882965  0.96529824]], shape=(3, 2), dtype=float32)\n"
          ]
        }
      ]
    },
    {
      "cell_type": "code",
      "source": [
        "# tf.math.asin\n",
        "x_abs = tf.constant([-2 , 25 ,3.25])\n",
        "tf.abs(x_abs)"
      ],
      "metadata": {
        "colab": {
          "base_uri": "https://localhost:8080/"
        },
        "id": "syRxL3unsBtd",
        "outputId": "2feddef2-8611-4032-9169-b39ebe85eb8b"
      },
      "execution_count": null,
      "outputs": [
        {
          "output_type": "execute_result",
          "data": {
            "text/plain": [
              "<tf.Tensor: shape=(3,), dtype=float32, numpy=array([ 2.  , 25.  ,  3.25], dtype=float32)>"
            ]
          },
          "metadata": {},
          "execution_count": 102
        }
      ]
    },
    {
      "cell_type": "code",
      "source": [
        "x_abs_complex = tf.constant([-2.25+ 4.75j])\n",
        "tf.abs(x_abs_complex)"
      ],
      "metadata": {
        "colab": {
          "base_uri": "https://localhost:8080/"
        },
        "id": "tgt0O8uYtdfK",
        "outputId": "5eb19d7e-c9e0-47eb-84c4-183ea73b93d3"
      },
      "execution_count": null,
      "outputs": [
        {
          "output_type": "execute_result",
          "data": {
            "text/plain": [
              "<tf.Tensor: shape=(1,), dtype=float64, numpy=array([5.25594901])>"
            ]
          },
          "metadata": {},
          "execution_count": 103
        }
      ]
    },
    {
      "cell_type": "code",
      "source": [
        "tf.sqrt((-2.25)**2 + 4.75**2)"
      ],
      "metadata": {
        "colab": {
          "base_uri": "https://localhost:8080/"
        },
        "id": "uUONIgiuvYWI",
        "outputId": "3fe3fada-b425-4b32-89b1-58aee232d0c8"
      },
      "execution_count": null,
      "outputs": [
        {
          "output_type": "execute_result",
          "data": {
            "text/plain": [
              "<tf.Tensor: shape=(), dtype=float32, numpy=5.255949>"
            ]
          },
          "metadata": {},
          "execution_count": 104
        }
      ]
    },
    {
      "cell_type": "code",
      "source": [
        "x_1 = tf.constant([5 ,3,6,6,4,6], dtype = tf.int32)\n",
        "x_2 =tf.constant([7,6,2,6,7,11] , dtype = tf.int32)\n",
        "print(tf.multiply(x_1 , x_2))"
      ],
      "metadata": {
        "colab": {
          "base_uri": "https://localhost:8080/"
        },
        "id": "W1ch9qY7v6HB",
        "outputId": "01dcfd93-cd66-40f6-a3e9-b694f07d9c79"
      },
      "execution_count": null,
      "outputs": [
        {
          "output_type": "stream",
          "name": "stdout",
          "text": [
            "tf.Tensor([35 18 12 36 28 66], shape=(6,), dtype=int32)\n"
          ]
        }
      ]
    },
    {
      "cell_type": "code",
      "source": [
        "print(tf.subtract(x_1 , x_2))"
      ],
      "metadata": {
        "colab": {
          "base_uri": "https://localhost:8080/"
        },
        "id": "UY00iFXJwx-p",
        "outputId": "a6bf4e65-ffab-4e24-a287-d7c03c09a111"
      },
      "execution_count": null,
      "outputs": [
        {
          "output_type": "stream",
          "name": "stdout",
          "text": [
            "tf.Tensor([-2 -3  4  0 -3 -5], shape=(6,), dtype=int32)\n"
          ]
        }
      ]
    },
    {
      "cell_type": "code",
      "source": [
        "x_1 = tf.constant([[5,3,6,6,4,6], [5,45,65,5,53,4]], dtype= tf.float32)\n",
        "x_2 = tf.constant([7], dtype= tf.float32)\n",
        "x_2_streched = tf.constant([7,7,7,7,7,7],dtype=tf.float32)"
      ],
      "metadata": {
        "id": "8wSyDMpBx9iF"
      },
      "execution_count": null,
      "outputs": []
    },
    {
      "cell_type": "code",
      "source": [
        "print(tf.math.multiply(x_1 , x_2))\n",
        "\n",
        "print(tf.math.multiply(x_1,x_2_streched))"
      ],
      "metadata": {
        "colab": {
          "base_uri": "https://localhost:8080/"
        },
        "id": "ltEDwLKey3RA",
        "outputId": "1670b634-7068-47f7-cf2d-396dcf4bd618"
      },
      "execution_count": null,
      "outputs": [
        {
          "output_type": "stream",
          "name": "stdout",
          "text": [
            "tf.Tensor(\n",
            "[[ 35.  21.  42.  42.  28.  42.]\n",
            " [ 35. 315. 455.  35. 371.  28.]], shape=(2, 6), dtype=float32)\n",
            "tf.Tensor(\n",
            "[[ 35.  21.  42.  42.  28.  42.]\n",
            " [ 35. 315. 455.  35. 371.  28.]], shape=(2, 6), dtype=float32)\n"
          ]
        }
      ]
    },
    {
      "cell_type": "code",
      "source": [
        "x_argmax = tf.constant([[2 ,20 , 30 , 3 ,6],\n",
        "                        [3,11,16,1,8],\n",
        "                        [14,45,23,5,27]])\n",
        "\n",
        "print(x_argmax.shape)"
      ],
      "metadata": {
        "colab": {
          "base_uri": "https://localhost:8080/"
        },
        "id": "lr3zWQ27zfde",
        "outputId": "2c865093-46d2-44f2-f8e2-184091b62ef0"
      },
      "execution_count": null,
      "outputs": [
        {
          "output_type": "stream",
          "name": "stdout",
          "text": [
            "(3, 5)\n"
          ]
        }
      ]
    },
    {
      "cell_type": "code",
      "source": [
        "x_argmax = tf.constant([200,120 , 130 , 3 , 6])\n",
        "print(tf.math.argmax(x_argmax))"
      ],
      "metadata": {
        "colab": {
          "base_uri": "https://localhost:8080/"
        },
        "id": "OlSLJIjR23TS",
        "outputId": "7ccf61e7-f3fe-4010-d218-b5f4dca62ffa"
      },
      "execution_count": null,
      "outputs": [
        {
          "output_type": "stream",
          "name": "stdout",
          "text": [
            "tf.Tensor(0, shape=(), dtype=int64)\n"
          ]
        }
      ]
    },
    {
      "cell_type": "code",
      "source": [
        "print(tf.math.argmin(x_argmax))"
      ],
      "metadata": {
        "colab": {
          "base_uri": "https://localhost:8080/"
        },
        "id": "OOH4NY6w3Yd6",
        "outputId": "91823324-b2a2-482b-8584-3ff55d9193c1"
      },
      "execution_count": null,
      "outputs": [
        {
          "output_type": "stream",
          "name": "stdout",
          "text": [
            "tf.Tensor(3, shape=(), dtype=int64)\n"
          ]
        }
      ]
    },
    {
      "cell_type": "code",
      "source": [
        "x_argmax = tf.constant([[2 ,20 , 30 , 3 ,6],\n",
        "                        [3,11,16,1,8],\n",
        "                        [14,45,23,5,27]])\n",
        "\n",
        "print(x_argmax.shape)\n",
        "print(tf.math.argmax(x_argmax, 0))"
      ],
      "metadata": {
        "colab": {
          "base_uri": "https://localhost:8080/"
        },
        "id": "fV4wX59-3mPp",
        "outputId": "543ae5eb-9e3b-451a-bbc3-beb415d5bb89"
      },
      "execution_count": null,
      "outputs": [
        {
          "output_type": "stream",
          "name": "stdout",
          "text": [
            "(3, 5)\n",
            "tf.Tensor([2 2 0 2 2], shape=(5,), dtype=int64)\n"
          ]
        }
      ]
    },
    {
      "cell_type": "code",
      "source": [
        "print(tf.math.argmax(x_argmax,1))"
      ],
      "metadata": {
        "colab": {
          "base_uri": "https://localhost:8080/"
        },
        "id": "ZRE3dhKw4_Eo",
        "outputId": "bf0f764a-3461-4564-9a3a-12c6450e084b"
      },
      "execution_count": null,
      "outputs": [
        {
          "output_type": "stream",
          "name": "stdout",
          "text": [
            "tf.Tensor([2 2 1], shape=(3,), dtype=int64)\n"
          ]
        }
      ]
    },
    {
      "cell_type": "code",
      "source": [
        "x = tf.constant([[2,2], [3,3]])\n",
        "y = tf.constant([[3,0],[1,4]])\n",
        "tf.pow(x,y)"
      ],
      "metadata": {
        "colab": {
          "base_uri": "https://localhost:8080/"
        },
        "id": "T-r9aOfF5Vp5",
        "outputId": "a3a1fcaf-25c6-4796-9ac2-b6f60a679b81"
      },
      "execution_count": null,
      "outputs": [
        {
          "output_type": "execute_result",
          "data": {
            "text/plain": [
              "<tf.Tensor: shape=(2, 2), dtype=int32, numpy=\n",
              "array([[ 8,  1],\n",
              "       [ 3, 81]], dtype=int32)>"
            ]
          },
          "metadata": {},
          "execution_count": 114
        }
      ]
    },
    {
      "cell_type": "code",
      "source": [
        "tensor_two_d = tf.constant([[1 ,2,3],\n",
        "                            [3,5,-1],\n",
        "                           [1,5,6],\n",
        "                            [2,3,8]])\n",
        "\n",
        "print(tensor_two_d)\n",
        "\n",
        "print(tf.math.reduce_sum(tensor_two_d, axis = None , keepdims=False , name = None))"
      ],
      "metadata": {
        "colab": {
          "base_uri": "https://localhost:8080/"
        },
        "id": "nBPH2xc5CE5d",
        "outputId": "d684ace2-160a-4f5d-86b1-12e8b75bab69"
      },
      "execution_count": null,
      "outputs": [
        {
          "output_type": "stream",
          "name": "stdout",
          "text": [
            "tf.Tensor(\n",
            "[[ 1  2  3]\n",
            " [ 3  5 -1]\n",
            " [ 1  5  6]\n",
            " [ 2  3  8]], shape=(4, 3), dtype=int32)\n",
            "tf.Tensor(38, shape=(), dtype=int32)\n"
          ]
        }
      ]
    },
    {
      "cell_type": "code",
      "source": [
        "tensor_two_d = tf.constant([[1,-2,0],\n",
        "                            [3,5,100],\n",
        "                            [1,5,6],\n",
        "                            [2,3,8]] , dtype= tf.float16)\n",
        "\n",
        "print(tensor_two_d.shape)\n",
        "\n",
        "print(tf.math.reduce_std(tensor_two_d , axis= 0 , keepdims= True , name = None))"
      ],
      "metadata": {
        "colab": {
          "base_uri": "https://localhost:8080/"
        },
        "id": "7XuoDbHEFWVG",
        "outputId": "dc063c1c-f6b3-43c8-feb9-f1a6933b35df"
      },
      "execution_count": null,
      "outputs": [
        {
          "output_type": "stream",
          "name": "stdout",
          "text": [
            "(4, 3)\n",
            "tf.Tensor([[ 0.829  2.861 41.38 ]], shape=(1, 3), dtype=float16)\n"
          ]
        }
      ]
    },
    {
      "cell_type": "code",
      "source": [
        "tf.math.top_k(tensor_two_d , k =2)"
      ],
      "metadata": {
        "colab": {
          "base_uri": "https://localhost:8080/"
        },
        "id": "zcn6f4o9GSUl",
        "outputId": "70cbcc4d-d3db-4eb6-9ca2-eb329f1f73a5"
      },
      "execution_count": null,
      "outputs": [
        {
          "output_type": "execute_result",
          "data": {
            "text/plain": [
              "TopKV2(values=<tf.Tensor: shape=(4, 2), dtype=float16, numpy=\n",
              "array([[  1.,   0.],\n",
              "       [100.,   5.],\n",
              "       [  6.,   5.],\n",
              "       [  8.,   3.]], dtype=float16)>, indices=<tf.Tensor: shape=(4, 2), dtype=int32, numpy=\n",
              "array([[0, 2],\n",
              "       [2, 1],\n",
              "       [2, 1],\n",
              "       [2, 1]], dtype=int32)>)"
            ]
          },
          "metadata": {},
          "execution_count": 117
        }
      ]
    },
    {
      "cell_type": "markdown",
      "source": [
        "### Linear algebra"
      ],
      "metadata": {
        "id": "ZRnDN_nmGiwB"
      }
    },
    {
      "cell_type": "code",
      "source": [
        "x_2 = tf.constant([[1 ,2,0 ,2],\n",
        "                   [3,5,-1,2],\n",
        "                   [4,5,6,0]])\n",
        "x_3 = tf.constant([[1 ,2,0 , 2],\n",
        "                   [3,5,-1,2]])\n",
        "\n",
        "print(x_1.shape , x_2.shape , x_3.shape , tf.transpose(x_2).shape)"
      ],
      "metadata": {
        "colab": {
          "base_uri": "https://localhost:8080/"
        },
        "id": "ke2QPmkNGo7q",
        "outputId": "137101c9-fc28-4c3d-8141-a02529218bb2"
      },
      "execution_count": null,
      "outputs": [
        {
          "output_type": "stream",
          "name": "stdout",
          "text": [
            "(2, 6) (3, 4) (2, 4) (4, 3)\n"
          ]
        }
      ]
    },
    {
      "cell_type": "code",
      "source": [
        "print(x_3@tf.transpose(x_2))"
      ],
      "metadata": {
        "colab": {
          "base_uri": "https://localhost:8080/"
        },
        "id": "K0UZWWIIKMqR",
        "outputId": "84ef9ad5-a82e-492c-8743-990d7707e0c4"
      },
      "execution_count": null,
      "outputs": [
        {
          "output_type": "stream",
          "name": "stdout",
          "text": [
            "tf.Tensor(\n",
            "[[ 9 17 14]\n",
            " [17 39 31]], shape=(2, 3), dtype=int32)\n"
          ]
        }
      ]
    },
    {
      "cell_type": "code",
      "source": [
        "tensor_two_d = tf.constant([[1,-2,0],\n",
        "                           [3,5,100],\n",
        "                           [1,5,5],\n",
        "                           [2,3,8]] , dtype = tf.float16)\n",
        "\n",
        "tensor_out_d = tf.constant([[x , x, x],\n",
        "                            [x,x,x],\n",
        "                            [x,x,x],\n",
        "                            [x,x,x]] , dtype = tf.float16)\n",
        "\n",
        "#### (m-n <= lower ) and (n-m <= upper)\n",
        "\n",
        "#m -- rows, n --- columns\n",
        "tf.linalg.band_part(tensor_two_d, 0 , 0)"
      ],
      "metadata": {
        "colab": {
          "base_uri": "https://localhost:8080/",
          "height": 512
        },
        "id": "-Ytg3obFLpeo",
        "outputId": "c353889c-3a50-4d37-bb0a-196e34b1d9f6"
      },
      "execution_count": null,
      "outputs": [
        {
          "output_type": "error",
          "ename": "ValueError",
          "evalue": "ignored",
          "traceback": [
            "\u001b[0;31m---------------------------------------------------------------------------\u001b[0m",
            "\u001b[0;31mValueError\u001b[0m                                Traceback (most recent call last)",
            "\u001b[0;32m<ipython-input-120-7433868dd2b9>\u001b[0m in \u001b[0;36m<cell line: 6>\u001b[0;34m()\u001b[0m\n\u001b[1;32m      4\u001b[0m                            [2,3,8]] , dtype = tf.float16)\n\u001b[1;32m      5\u001b[0m \u001b[0;34m\u001b[0m\u001b[0m\n\u001b[0;32m----> 6\u001b[0;31m tensor_out_d = tf.constant([[x , x, x],\n\u001b[0m\u001b[1;32m      7\u001b[0m                             \u001b[0;34m[\u001b[0m\u001b[0mx\u001b[0m\u001b[0;34m,\u001b[0m\u001b[0mx\u001b[0m\u001b[0;34m,\u001b[0m\u001b[0mx\u001b[0m\u001b[0;34m]\u001b[0m\u001b[0;34m,\u001b[0m\u001b[0;34m\u001b[0m\u001b[0;34m\u001b[0m\u001b[0m\n\u001b[1;32m      8\u001b[0m                             \u001b[0;34m[\u001b[0m\u001b[0mx\u001b[0m\u001b[0;34m,\u001b[0m\u001b[0mx\u001b[0m\u001b[0;34m,\u001b[0m\u001b[0mx\u001b[0m\u001b[0;34m]\u001b[0m\u001b[0;34m,\u001b[0m\u001b[0;34m\u001b[0m\u001b[0;34m\u001b[0m\u001b[0m\n",
            "\u001b[0;32m/usr/local/lib/python3.10/dist-packages/tensorflow/python/framework/constant_op.py\u001b[0m in \u001b[0;36mconstant\u001b[0;34m(value, dtype, shape, name)\u001b[0m\n\u001b[1;32m    266\u001b[0m     \u001b[0mValueError\u001b[0m\u001b[0;34m:\u001b[0m \u001b[0;32mif\u001b[0m \u001b[0mcalled\u001b[0m \u001b[0mon\u001b[0m \u001b[0ma\u001b[0m \u001b[0msymbolic\u001b[0m \u001b[0mtensor\u001b[0m\u001b[0;34m.\u001b[0m\u001b[0;34m\u001b[0m\u001b[0;34m\u001b[0m\u001b[0m\n\u001b[1;32m    267\u001b[0m   \"\"\"\n\u001b[0;32m--> 268\u001b[0;31m   return _constant_impl(value, dtype, shape, name, verify_shape=False,\n\u001b[0m\u001b[1;32m    269\u001b[0m                         allow_broadcast=True)\n\u001b[1;32m    270\u001b[0m \u001b[0;34m\u001b[0m\u001b[0m\n",
            "\u001b[0;32m/usr/local/lib/python3.10/dist-packages/tensorflow/python/framework/constant_op.py\u001b[0m in \u001b[0;36m_constant_impl\u001b[0;34m(value, dtype, shape, name, verify_shape, allow_broadcast)\u001b[0m\n\u001b[1;32m    278\u001b[0m       \u001b[0;32mwith\u001b[0m \u001b[0mtrace\u001b[0m\u001b[0;34m.\u001b[0m\u001b[0mTrace\u001b[0m\u001b[0;34m(\u001b[0m\u001b[0;34m\"tf.constant\"\u001b[0m\u001b[0;34m)\u001b[0m\u001b[0;34m:\u001b[0m\u001b[0;34m\u001b[0m\u001b[0;34m\u001b[0m\u001b[0m\n\u001b[1;32m    279\u001b[0m         \u001b[0;32mreturn\u001b[0m \u001b[0m_constant_eager_impl\u001b[0m\u001b[0;34m(\u001b[0m\u001b[0mctx\u001b[0m\u001b[0;34m,\u001b[0m \u001b[0mvalue\u001b[0m\u001b[0;34m,\u001b[0m \u001b[0mdtype\u001b[0m\u001b[0;34m,\u001b[0m \u001b[0mshape\u001b[0m\u001b[0;34m,\u001b[0m \u001b[0mverify_shape\u001b[0m\u001b[0;34m)\u001b[0m\u001b[0;34m\u001b[0m\u001b[0;34m\u001b[0m\u001b[0m\n\u001b[0;32m--> 280\u001b[0;31m     \u001b[0;32mreturn\u001b[0m \u001b[0m_constant_eager_impl\u001b[0m\u001b[0;34m(\u001b[0m\u001b[0mctx\u001b[0m\u001b[0;34m,\u001b[0m \u001b[0mvalue\u001b[0m\u001b[0;34m,\u001b[0m \u001b[0mdtype\u001b[0m\u001b[0;34m,\u001b[0m \u001b[0mshape\u001b[0m\u001b[0;34m,\u001b[0m \u001b[0mverify_shape\u001b[0m\u001b[0;34m)\u001b[0m\u001b[0;34m\u001b[0m\u001b[0;34m\u001b[0m\u001b[0m\n\u001b[0m\u001b[1;32m    281\u001b[0m \u001b[0;34m\u001b[0m\u001b[0m\n\u001b[1;32m    282\u001b[0m   \u001b[0mg\u001b[0m \u001b[0;34m=\u001b[0m \u001b[0mops\u001b[0m\u001b[0;34m.\u001b[0m\u001b[0mget_default_graph\u001b[0m\u001b[0;34m(\u001b[0m\u001b[0;34m)\u001b[0m\u001b[0;34m\u001b[0m\u001b[0;34m\u001b[0m\u001b[0m\n",
            "\u001b[0;32m/usr/local/lib/python3.10/dist-packages/tensorflow/python/framework/constant_op.py\u001b[0m in \u001b[0;36m_constant_eager_impl\u001b[0;34m(ctx, value, dtype, shape, verify_shape)\u001b[0m\n\u001b[1;32m    303\u001b[0m \u001b[0;32mdef\u001b[0m \u001b[0m_constant_eager_impl\u001b[0m\u001b[0;34m(\u001b[0m\u001b[0mctx\u001b[0m\u001b[0;34m,\u001b[0m \u001b[0mvalue\u001b[0m\u001b[0;34m,\u001b[0m \u001b[0mdtype\u001b[0m\u001b[0;34m,\u001b[0m \u001b[0mshape\u001b[0m\u001b[0;34m,\u001b[0m \u001b[0mverify_shape\u001b[0m\u001b[0;34m)\u001b[0m\u001b[0;34m:\u001b[0m\u001b[0;34m\u001b[0m\u001b[0;34m\u001b[0m\u001b[0m\n\u001b[1;32m    304\u001b[0m   \u001b[0;34m\"\"\"Creates a constant on the current device.\"\"\"\u001b[0m\u001b[0;34m\u001b[0m\u001b[0;34m\u001b[0m\u001b[0m\n\u001b[0;32m--> 305\u001b[0;31m   \u001b[0mt\u001b[0m \u001b[0;34m=\u001b[0m \u001b[0mconvert_to_eager_tensor\u001b[0m\u001b[0;34m(\u001b[0m\u001b[0mvalue\u001b[0m\u001b[0;34m,\u001b[0m \u001b[0mctx\u001b[0m\u001b[0;34m,\u001b[0m \u001b[0mdtype\u001b[0m\u001b[0;34m)\u001b[0m\u001b[0;34m\u001b[0m\u001b[0;34m\u001b[0m\u001b[0m\n\u001b[0m\u001b[1;32m    306\u001b[0m   \u001b[0;32mif\u001b[0m \u001b[0mshape\u001b[0m \u001b[0;32mis\u001b[0m \u001b[0;32mNone\u001b[0m\u001b[0;34m:\u001b[0m\u001b[0;34m\u001b[0m\u001b[0;34m\u001b[0m\u001b[0m\n\u001b[1;32m    307\u001b[0m     \u001b[0;32mreturn\u001b[0m \u001b[0mt\u001b[0m\u001b[0;34m\u001b[0m\u001b[0;34m\u001b[0m\u001b[0m\n",
            "\u001b[0;32m/usr/local/lib/python3.10/dist-packages/tensorflow/python/framework/constant_op.py\u001b[0m in \u001b[0;36mconvert_to_eager_tensor\u001b[0;34m(value, ctx, dtype)\u001b[0m\n\u001b[1;32m    101\u001b[0m       \u001b[0mdtype\u001b[0m \u001b[0;34m=\u001b[0m \u001b[0mdtypes\u001b[0m\u001b[0;34m.\u001b[0m\u001b[0mas_dtype\u001b[0m\u001b[0;34m(\u001b[0m\u001b[0mdtype\u001b[0m\u001b[0;34m)\u001b[0m\u001b[0;34m.\u001b[0m\u001b[0mas_datatype_enum\u001b[0m\u001b[0;34m\u001b[0m\u001b[0;34m\u001b[0m\u001b[0m\n\u001b[1;32m    102\u001b[0m   \u001b[0mctx\u001b[0m\u001b[0;34m.\u001b[0m\u001b[0mensure_initialized\u001b[0m\u001b[0;34m(\u001b[0m\u001b[0;34m)\u001b[0m\u001b[0;34m\u001b[0m\u001b[0;34m\u001b[0m\u001b[0m\n\u001b[0;32m--> 103\u001b[0;31m   \u001b[0;32mreturn\u001b[0m \u001b[0mops\u001b[0m\u001b[0;34m.\u001b[0m\u001b[0mEagerTensor\u001b[0m\u001b[0;34m(\u001b[0m\u001b[0mvalue\u001b[0m\u001b[0;34m,\u001b[0m \u001b[0mctx\u001b[0m\u001b[0;34m.\u001b[0m\u001b[0mdevice_name\u001b[0m\u001b[0;34m,\u001b[0m \u001b[0mdtype\u001b[0m\u001b[0;34m)\u001b[0m\u001b[0;34m\u001b[0m\u001b[0;34m\u001b[0m\u001b[0m\n\u001b[0m\u001b[1;32m    104\u001b[0m \u001b[0;34m\u001b[0m\u001b[0m\n\u001b[1;32m    105\u001b[0m \u001b[0;34m\u001b[0m\u001b[0m\n",
            "\u001b[0;31mValueError\u001b[0m: TypeError: Scalar tensor has no `len()`\nTraceback (most recent call last):\n\n  File \"/usr/local/lib/python3.10/dist-packages/tensorflow/python/framework/ops.py\", line 1107, in __len__\n    raise TypeError(\"Scalar tensor has no `len()`\")\n\nTypeError: Scalar tensor has no `len()`\n\n"
          ]
        }
      ]
    },
    {
      "cell_type": "code",
      "source": [
        "tensor_two_d_m_n = tf.constant([[0,-1,-2],\n",
        "                                [1,0,-1],\n",
        "                                [2,1,0],\n",
        "                                [1,2,1]],  dtype = tf.float16)\n",
        "\n",
        "tensor_two_d_n_m = tf.constant([[0,1,2],\n",
        "                                [-1,0,1],\n",
        "                                [-2,-1,0],\n",
        "                                [-3,-2,-1]] , dtype = tf.float16)"
      ],
      "metadata": {
        "id": "EgusvZDXRlRW"
      },
      "execution_count": null,
      "outputs": []
    },
    {
      "cell_type": "code",
      "source": [
        "tensor_two_d = tf.constant([[1 ,-2 ,0],\n",
        "                            [3,5,100],\n",
        "                            [1,5,6]], dtype = tf.float32)\n",
        "\n",
        "tensor_two_d_inv =tf.linalg.inv(tensor_two_d)"
      ],
      "metadata": {
        "id": "1Z11tHAoTce2"
      },
      "execution_count": null,
      "outputs": []
    },
    {
      "cell_type": "code",
      "source": [
        "tensor_two_d@tensor_two_d_inv"
      ],
      "metadata": {
        "colab": {
          "base_uri": "https://localhost:8080/"
        },
        "id": "8NId5R3FU-bH",
        "outputId": "69a703d8-229c-46b0-93d8-4f874f2ce14b"
      },
      "execution_count": null,
      "outputs": [
        {
          "output_type": "execute_result",
          "data": {
            "text/plain": [
              "<tf.Tensor: shape=(3, 3), dtype=float32, numpy=\n",
              "array([[ 1.0000000e+00,  7.4505806e-09,  0.0000000e+00],\n",
              "       [ 1.6391277e-07,  1.0000000e+00,  4.4703484e-08],\n",
              "       [-5.2154064e-08,  7.4505806e-08,  1.0000000e+00]], dtype=float32)>"
            ]
          },
          "metadata": {},
          "execution_count": 123
        }
      ]
    },
    {
      "cell_type": "code",
      "source": [
        "s , u  , v = tf.linalg.svd(tensor_two_d)\n",
        "print(s)"
      ],
      "metadata": {
        "colab": {
          "base_uri": "https://localhost:8080/"
        },
        "id": "Lx0KhZHCVyDY",
        "outputId": "6d36aa82-00c6-4891-b15e-dc642f23aee7"
      },
      "execution_count": null,
      "outputs": [
        {
          "output_type": "stream",
          "name": "stdout",
          "text": [
            "tf.Tensor([100.3663      5.1059036   1.2371687], shape=(3,), dtype=float32)\n"
          ]
        }
      ]
    },
    {
      "cell_type": "code",
      "source": [
        "import numpy as np\n"
      ],
      "metadata": {
        "id": "RUVxoHreWGGW"
      },
      "execution_count": null,
      "outputs": []
    },
    {
      "cell_type": "code",
      "source": [
        "A = np.array([[[2,6,5,2],\n",
        "               [2,-2,2,3],\n",
        "               [1,5,4,0]],\n",
        "              [[1,3,1,22],\n",
        "               [0,2,2,0],\n",
        "               [1,5,4,1]]])\n",
        "\n",
        "B = np.array([\n",
        "    [[2,9,0,3,0],\n",
        "     [3,6,8,-2,2],\n",
        "     [1,3,5,0,1],\n",
        "     [3,0,2,0,5]],\n",
        "    [[1,0,0,3,0],\n",
        "     [3,0,4,-2,2],\n",
        "     [1,0,2,0,0],\n",
        "     [3,0,1,1,0]]\n",
        "])\n",
        "\n",
        "print(A.shape , B.shape)\n",
        "\n",
        "print(\"Batch multiplication c = : \\n\")\n",
        "print(np.matmul(A , B), \"\\n\")"
      ],
      "metadata": {
        "colab": {
          "base_uri": "https://localhost:8080/"
        },
        "id": "NluXFjYiYSLB",
        "outputId": "c6886001-079b-497a-bc41-aaa631e79956"
      },
      "execution_count": null,
      "outputs": [
        {
          "output_type": "stream",
          "name": "stdout",
          "text": [
            "(2, 3, 4) (2, 4, 5)\n",
            "Batch multiplication c = : \n",
            "\n",
            "[[[33 69 77 -6 27]\n",
            "  [ 9 12  0 10 13]\n",
            "  [21 51 60 -7 14]]\n",
            "\n",
            " [[77  0 36 19  6]\n",
            "  [ 8  0 12 -4  4]\n",
            "  [23  0 29 -6 10]]] \n",
            "\n"
          ]
        }
      ]
    },
    {
      "cell_type": "code",
      "source": [
        "# Q = batchsize, s_q, modelsize\n",
        "# K = batchsize , s_k  , modelsize"
      ],
      "metadata": {
        "id": "e6cKa6Ttch-w"
      },
      "execution_count": null,
      "outputs": []
    },
    {
      "cell_type": "code",
      "source": [
        "Q = np.random.randn(32 , 64 , 512)\n",
        "K =  np.random.randn(32 , 128 , 512)"
      ],
      "metadata": {
        "id": "t-LTPd9weFqi"
      },
      "execution_count": null,
      "outputs": []
    },
    {
      "cell_type": "code",
      "source": [
        "np.einsum(\"bqm , bkm -> bqk\" , Q , K).shape"
      ],
      "metadata": {
        "colab": {
          "base_uri": "https://localhost:8080/"
        },
        "id": "_9X2N328eitU",
        "outputId": "09845c11-e2a9-49a7-fb8d-1eca0fd61030"
      },
      "execution_count": null,
      "outputs": [
        {
          "output_type": "execute_result",
          "data": {
            "text/plain": [
              "(32, 64, 128)"
            ]
          },
          "metadata": {},
          "execution_count": 128
        }
      ]
    },
    {
      "cell_type": "code",
      "source": [
        "Q , K"
      ],
      "metadata": {
        "colab": {
          "base_uri": "https://localhost:8080/"
        },
        "id": "u8clt4-_fEFm",
        "outputId": "88d4b9ea-aca0-454e-fd85-d2b317b219b5"
      },
      "execution_count": null,
      "outputs": [
        {
          "output_type": "execute_result",
          "data": {
            "text/plain": [
              "(array([[[-1.72256874e+00, -3.00893464e-01,  5.75229305e-01, ...,\n",
              "          -6.89693960e-01, -4.12919619e-01, -5.57412824e-03],\n",
              "         [-4.61150201e-01, -4.33325727e-01,  3.31691282e-01, ...,\n",
              "           5.95040572e-01,  3.71721752e-01,  1.62111341e-02],\n",
              "         [-6.72824623e-01,  7.27732594e-01, -1.52904031e+00, ...,\n",
              "          -7.85454091e-01,  2.66592862e-01,  1.16847427e+00],\n",
              "         ...,\n",
              "         [ 1.23142036e+00,  1.28625005e-01, -6.89705809e-01, ...,\n",
              "          -9.01832679e-01,  5.45021950e-02, -5.86423461e-01],\n",
              "         [ 1.67816603e+00, -4.60393500e-01,  1.50617424e+00, ...,\n",
              "          -1.49743933e+00,  3.17085786e-01, -1.56986502e+00],\n",
              "         [ 1.28137874e+00,  9.65703619e-01, -1.33166338e-01, ...,\n",
              "           1.35693756e+00, -2.28384867e+00,  1.66258678e-01]],\n",
              " \n",
              "        [[-3.97119205e-01,  9.52114082e-01, -1.66457162e+00, ...,\n",
              "           2.16031458e+00, -1.17795798e+00,  9.87845549e-01],\n",
              "         [ 2.75332025e-01, -4.36288926e-01,  5.36531123e-01, ...,\n",
              "           1.29514689e-02,  7.14742764e-02, -2.67682569e-01],\n",
              "         [-2.66363478e-02, -9.12187960e-01,  7.27457599e-01, ...,\n",
              "          -8.27621898e-01, -3.55484372e-01,  4.74932745e-01],\n",
              "         ...,\n",
              "         [-5.99788845e-01,  1.17734601e-01,  6.06701495e-01, ...,\n",
              "           6.55990590e-01, -1.41691566e+00, -1.15075424e-01],\n",
              "         [-1.37730758e+00, -8.55859403e-01, -9.90652509e-01, ...,\n",
              "          -3.31631661e-01, -2.13242711e-01, -5.33651822e-01],\n",
              "         [-2.15456619e+00,  1.35534263e-01,  7.18141089e-01, ...,\n",
              "           9.39899514e-01,  1.48297565e-01, -3.83087418e-01]],\n",
              " \n",
              "        [[-1.10029969e+00,  6.46099369e-01,  1.17736601e+00, ...,\n",
              "          -1.79012400e+00, -4.95639276e-01,  1.50112231e+00],\n",
              "         [-1.15464352e+00, -7.38912207e-01,  1.28024329e+00, ...,\n",
              "           9.47373142e-01, -2.94943525e+00,  2.69349789e+00],\n",
              "         [-4.03451399e-01, -1.68062854e+00,  8.00691656e-01, ...,\n",
              "          -2.06357159e-01,  4.50682589e-01,  4.13096926e-01],\n",
              "         ...,\n",
              "         [ 6.98156675e-01, -5.30151583e-01, -1.29620815e+00, ...,\n",
              "           8.42406246e-02, -8.23496192e-01, -8.56939964e-01],\n",
              "         [ 1.16502496e+00,  2.36392733e-01, -1.09576988e+00, ...,\n",
              "          -5.44533535e-01, -4.13051553e-01, -6.04401829e-01],\n",
              "         [ 1.07519955e-01, -1.40712239e+00, -1.06328869e+00, ...,\n",
              "          -5.29375414e-01, -1.28541288e+00, -7.29650082e-01]],\n",
              " \n",
              "        ...,\n",
              " \n",
              "        [[ 5.75491674e-01, -7.92526696e-01,  4.10741786e-01, ...,\n",
              "          -9.40712760e-02, -2.22836564e+00, -1.73900633e+00],\n",
              "         [ 1.66492789e+00,  1.28188292e+00,  8.50901647e-01, ...,\n",
              "          -9.35917282e-01, -3.50867685e-01, -6.95600889e-01],\n",
              "         [ 8.13859947e-02,  5.07523973e-01,  9.48228165e-01, ...,\n",
              "           1.00937183e+00, -1.33925712e-01, -3.99907224e-01],\n",
              "         ...,\n",
              "         [-1.40495991e+00,  1.20433162e+00, -1.38240189e+00, ...,\n",
              "          -3.88497305e-01,  7.13219269e-01, -2.46539916e+00],\n",
              "         [ 8.95617297e-01, -5.26691582e-01,  5.33392680e-01, ...,\n",
              "           1.79528543e-01, -9.72476460e-01,  6.72108780e-01],\n",
              "         [-2.03977417e+00, -1.74613964e-01,  1.75160428e+00, ...,\n",
              "           3.33532496e-01, -2.74900911e-01,  1.79906722e-01]],\n",
              " \n",
              "        [[-4.63968045e-01, -4.71410737e-01,  4.53156422e-01, ...,\n",
              "          -5.73175774e-02, -2.94268681e+00,  3.99428660e-01],\n",
              "         [ 1.12071586e+00,  2.50843057e-01,  6.23365479e-01, ...,\n",
              "          -1.32393070e+00,  6.91245366e-01, -1.09727600e+00],\n",
              "         [-7.59150504e-01,  5.58774117e-01,  8.92330067e-01, ...,\n",
              "          -9.92726174e-02,  9.59197366e-01,  1.67021772e+00],\n",
              "         ...,\n",
              "         [ 5.04230923e-01,  2.13831808e+00, -1.22141372e+00, ...,\n",
              "          -1.72182675e+00, -1.52774655e+00, -6.08836443e-03],\n",
              "         [-9.27753027e-01, -1.23496764e+00,  7.92488149e-01, ...,\n",
              "          -1.62749149e+00,  1.12824981e+00, -7.83600691e-01],\n",
              "         [-1.42114304e+00,  1.69936153e+00, -8.57176070e-01, ...,\n",
              "           1.78054182e-01,  7.03815655e-01,  1.09183107e-01]],\n",
              " \n",
              "        [[-6.74989712e-01, -6.74811364e-01,  4.14280127e-01, ...,\n",
              "          -4.34075885e-01, -1.16706924e-01, -6.71927519e-01],\n",
              "         [-8.59576080e-04,  1.51305194e+00, -8.15264467e-01, ...,\n",
              "          -3.21304174e-03,  5.09347781e-01, -9.65385269e-01],\n",
              "         [ 6.85720688e-01, -1.25577536e+00,  9.30775105e-01, ...,\n",
              "          -9.27268442e-02,  1.71448298e+00,  1.03057956e+00],\n",
              "         ...,\n",
              "         [-1.50888480e+00, -8.02655827e-01,  1.32869643e+00, ...,\n",
              "           1.84156378e+00,  7.82703883e-01, -2.82669137e-01],\n",
              "         [-1.08819927e+00,  1.14395863e+00, -6.38792348e-01, ...,\n",
              "           1.27113069e-01,  3.89112722e-01,  2.05627381e+00],\n",
              "         [ 4.01339745e-01,  6.36123079e-01,  1.23965951e+00, ...,\n",
              "           6.93243443e-01, -7.42561489e-01,  1.06558193e+00]]]),\n",
              " array([[[ 0.66125761, -1.05873614,  0.40555612, ..., -2.49363655,\n",
              "          -0.36274069,  0.04111176],\n",
              "         [ 0.92341019, -0.65427721, -0.06224601, ...,  0.35613217,\n",
              "          -0.6109803 ,  1.37687216],\n",
              "         [-0.20740441,  1.17728723, -0.96838848, ..., -0.89456643,\n",
              "          -0.6671872 , -1.45284591],\n",
              "         ...,\n",
              "         [ 1.66485994,  0.53642773, -1.40962628, ...,  0.20253109,\n",
              "           1.46927766,  0.2213573 ],\n",
              "         [-1.17489571, -0.94922416,  0.03904523, ...,  0.70423009,\n",
              "          -2.23747195, -0.65435326],\n",
              "         [-2.47031043,  0.89727857,  1.1770115 , ...,  1.252011  ,\n",
              "          -0.42467806, -0.4104347 ]],\n",
              " \n",
              "        [[-0.0943029 ,  0.86185677, -0.85620226, ..., -2.24840104,\n",
              "           2.8012334 ,  0.24821559],\n",
              "         [-0.79597354,  2.32628168, -0.73358193, ..., -0.87331808,\n",
              "          -0.76623086, -0.22078195],\n",
              "         [-0.44992149, -0.49623239,  1.94639223, ..., -0.80561364,\n",
              "          -1.63239718, -0.01214666],\n",
              "         ...,\n",
              "         [ 1.78650827, -0.59148581,  0.96974528, ...,  1.5614817 ,\n",
              "          -2.48120715, -2.182645  ],\n",
              "         [-0.52027576, -1.74195195, -0.84313193, ...,  0.19968643,\n",
              "          -0.2223856 ,  0.05943139],\n",
              "         [-0.55460396, -1.23803761,  0.41572222, ...,  1.00188521,\n",
              "          -0.51487161,  0.56849844]],\n",
              " \n",
              "        [[ 0.53433999,  1.48688139, -0.48816643, ...,  2.63366587,\n",
              "          -0.46947135, -0.76328075],\n",
              "         [ 1.00529187,  2.16066846, -1.24330146, ..., -0.33547677,\n",
              "           0.0350164 , -0.93132322],\n",
              "         [-0.65170323,  0.25800105,  0.17036265, ...,  1.92742983,\n",
              "          -1.79530716,  1.53925627],\n",
              "         ...,\n",
              "         [-0.37417103,  0.06455849,  1.04324007, ..., -0.49566723,\n",
              "           0.78190699, -0.10454621],\n",
              "         [-0.66911822,  0.11751619,  0.56604379, ...,  0.13987884,\n",
              "          -0.6824002 ,  0.59461951],\n",
              "         [-1.60813536, -1.27071509,  0.16469927, ...,  0.40901967,\n",
              "           1.28535614, -0.27941825]],\n",
              " \n",
              "        ...,\n",
              " \n",
              "        [[ 1.73677259,  1.24435407,  0.90549234, ...,  0.42743227,\n",
              "           0.14167724, -0.24335347],\n",
              "         [ 0.27399318,  0.64941402, -0.07449063, ..., -0.54385616,\n",
              "          -0.84347885, -1.83254255],\n",
              "         [ 0.10440323, -1.17138416, -0.76142001, ..., -0.78058959,\n",
              "          -0.18083957, -0.15348332],\n",
              "         ...,\n",
              "         [ 1.45519809,  2.10362051, -0.71716384, ...,  1.16356095,\n",
              "          -0.08370942, -0.85964716],\n",
              "         [ 1.11672643,  0.30376834, -0.21706258, ..., -1.83215934,\n",
              "           0.70322065,  0.41901258],\n",
              "         [-1.50052417,  0.83298571, -0.57274297, ...,  0.40995012,\n",
              "          -0.8103976 ,  0.33465635]],\n",
              " \n",
              "        [[ 0.00768806,  0.78944399, -0.65850968, ...,  0.77451226,\n",
              "           0.73665175, -2.1549137 ],\n",
              "         [-1.84647913, -0.59379332,  0.76431686, ...,  0.76978703,\n",
              "           1.22967991, -0.43885689],\n",
              "         [-1.64601749, -1.7792104 , -0.34990786, ...,  0.81015581,\n",
              "           0.69485174,  2.43600365],\n",
              "         ...,\n",
              "         [ 0.1138962 ,  1.00970708, -0.98048724, ...,  0.7255506 ,\n",
              "          -0.632508  ,  0.1199189 ],\n",
              "         [-0.59661707,  0.05865306,  0.65749546, ..., -0.3028305 ,\n",
              "          -0.63393712, -0.13682126],\n",
              "         [-1.63528261,  0.56141482,  1.46042371, ...,  1.0747594 ,\n",
              "           0.98679277,  0.95714712]],\n",
              " \n",
              "        [[-0.93337691, -0.51234125, -0.09436104, ...,  0.03322937,\n",
              "           0.95328925,  1.69807331],\n",
              "         [ 0.57536325, -0.27652486, -0.60420209, ..., -0.50935846,\n",
              "           1.81176572, -0.64534544],\n",
              "         [-1.89875601,  0.49306348,  1.84808538, ...,  0.44813785,\n",
              "          -1.78985072,  1.38359073],\n",
              "         ...,\n",
              "         [-0.83163126,  0.22854044, -0.65681392, ..., -0.77123751,\n",
              "          -0.07896227,  0.38214596],\n",
              "         [ 0.2157789 , -1.25417014, -2.08187425, ...,  0.02746275,\n",
              "          -0.34950201, -1.36406935],\n",
              "         [-0.24232815,  0.65818108,  1.57031363, ...,  0.28716013,\n",
              "           0.26003647, -0.64497026]]]))"
            ]
          },
          "metadata": {},
          "execution_count": 130
        }
      ]
    },
    {
      "cell_type": "code",
      "source": [
        "A = np.random.randn(2 ,4,4,2) # bcij\n",
        "B = np.random.randn(2 ,4,4,1) # bcik\n",
        "\n"
      ],
      "metadata": {
        "id": "Je5Rf4kWfTdr"
      },
      "execution_count": null,
      "outputs": []
    },
    {
      "cell_type": "code",
      "source": [
        "np.einsum(\"bcik , bcij -> bckj \" , B ,A)\n",
        "\n"
      ],
      "metadata": {
        "colab": {
          "base_uri": "https://localhost:8080/"
        },
        "id": "xbljjr8qge_q",
        "outputId": "629733ef-00d7-4cd4-c5f4-1915467e7932"
      },
      "execution_count": null,
      "outputs": [
        {
          "output_type": "execute_result",
          "data": {
            "text/plain": [
              "array([[[[-1.4366558 , -2.14610808]],\n",
              "\n",
              "        [[ 0.81692984, -0.4660682 ]],\n",
              "\n",
              "        [[ 1.84774379, -1.23309168]],\n",
              "\n",
              "        [[-0.02810752, -2.96152489]]],\n",
              "\n",
              "\n",
              "       [[[ 0.11222544, -0.90738107]],\n",
              "\n",
              "        [[ 0.00372097,  1.42130748]],\n",
              "\n",
              "        [[ 0.43103606,  3.10315985]],\n",
              "\n",
              "        [[ 1.83563213, -1.05475679]]]])"
            ]
          },
          "metadata": {},
          "execution_count": 132
        }
      ]
    },
    {
      "cell_type": "code",
      "source": [
        "np.matmul(np.transpose(B,(0,1,3,2)) ,A)"
      ],
      "metadata": {
        "colab": {
          "base_uri": "https://localhost:8080/"
        },
        "id": "9wLQ044Ugujb",
        "outputId": "3f7775d7-e066-4b8e-e53d-589bd27d9413"
      },
      "execution_count": null,
      "outputs": [
        {
          "output_type": "execute_result",
          "data": {
            "text/plain": [
              "array([[[[-1.4366558 , -2.14610808]],\n",
              "\n",
              "        [[ 0.81692984, -0.4660682 ]],\n",
              "\n",
              "        [[ 1.84774379, -1.23309168]],\n",
              "\n",
              "        [[-0.02810752, -2.96152489]]],\n",
              "\n",
              "\n",
              "       [[[ 0.11222544, -0.90738107]],\n",
              "\n",
              "        [[ 0.00372097,  1.42130748]],\n",
              "\n",
              "        [[ 0.43103606,  3.10315985]],\n",
              "\n",
              "        [[ 1.83563213, -1.05475679]]]])"
            ]
          },
          "metadata": {},
          "execution_count": 133
        }
      ]
    },
    {
      "cell_type": "code",
      "source": [
        "tensor_three_d = tf.constant([\n",
        "    [[1,2,0],\n",
        "     [3,5,-1]],\n",
        "    [[10,2,0],\n",
        "     [1,0,2]],\n",
        "    [[5,8,0],\n",
        "     [2,7,0]],\n",
        "\n",
        "    [[2,1,9],\n",
        "     [4,-3 , 32]]\n",
        "])\n",
        "\n",
        "print(tensor_three_d.shape)\n",
        "\n",
        "print(tf.expand_dims(tensor_three_d , axis = 0).shape)\n"
      ],
      "metadata": {
        "colab": {
          "base_uri": "https://localhost:8080/"
        },
        "id": "shuk_ghChSiJ",
        "outputId": "b68dce8c-efe7-4953-aea5-68b6970c5c3f"
      },
      "execution_count": null,
      "outputs": [
        {
          "output_type": "stream",
          "name": "stdout",
          "text": [
            "(4, 2, 3)\n",
            "(1, 4, 2, 3)\n"
          ]
        }
      ]
    },
    {
      "cell_type": "code",
      "source": [
        "x = tf.constant([2,3,4,5])\n",
        "\n",
        "print(x.shape)\n",
        "\n",
        "print(tf.expand_dims(x , axis=0))"
      ],
      "metadata": {
        "colab": {
          "base_uri": "https://localhost:8080/"
        },
        "id": "JB4rjqnfiEOA",
        "outputId": "2b26f459-9008-4bfd-8dfd-ea9147c2cb77"
      },
      "execution_count": null,
      "outputs": [
        {
          "output_type": "stream",
          "name": "stdout",
          "text": [
            "(4,)\n",
            "tf.Tensor([[2 3 4 5]], shape=(1, 4), dtype=int32)\n"
          ]
        }
      ]
    },
    {
      "cell_type": "code",
      "source": [
        "\n",
        "x = tf.constant([[[[2,3,4,5]]]])\n",
        "print(x.shape)\n",
        "\n",
        "x_squeezed = tf.squeeze(x , axis = 0)\n",
        "\n",
        "for i in range(2):\n",
        "  x_squeezed = squeeze(x_squeezed , axis = 0)\n",
        "\n",
        "  print(x_squeezed)\n"
      ],
      "metadata": {
        "colab": {
          "base_uri": "https://localhost:8080/"
        },
        "id": "aYfvT2UajkD9",
        "outputId": "2cc70a26-a193-48d9-f433-7430344f7775"
      },
      "execution_count": null,
      "outputs": [
        {
          "output_type": "stream",
          "name": "stdout",
          "text": [
            "(1, 1, 1, 4)\n",
            "[[2 3 4 5]]\n",
            "[2 3 4 5]\n"
          ]
        }
      ]
    }
  ]
}